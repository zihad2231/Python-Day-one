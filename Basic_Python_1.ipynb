{
 "cells": [
  {
   "cell_type": "markdown",
   "id": "e8a96042-7c73-4ef2-aee4-00358ea9b52f",
   "metadata": {},
   "source": [
    "# Basic Python Programming"
   ]
  },
  {
   "cell_type": "markdown",
   "id": "22bf8873-a6e8-474d-a77b-6785443b2ba6",
   "metadata": {},
   "source": [
    "### written by Zihad Hasan"
   ]
  },
  {
   "cell_type": "code",
   "execution_count": 2,
   "id": "85941e48-423c-466d-9d88-79d374be036c",
   "metadata": {},
   "outputs": [
    {
     "name": "stdout",
     "output_type": "stream",
     "text": [
      "Hello\n",
      "world\n",
      "Hello world\n"
     ]
    }
   ],
   "source": [
    "print(\"Hello\")\n",
    "print(\"world\")\n",
    "print(\"Hello world\")"
   ]
  },
  {
   "cell_type": "markdown",
   "id": "a3e5fede-b180-494e-bfe5-84c88024596e",
   "metadata": {},
   "source": [
    "### Varriable type"
   ]
  },
  {
   "cell_type": "code",
   "execution_count": 29,
   "id": "cedd0f06-6db5-46f4-bd9a-cb8673860266",
   "metadata": {},
   "outputs": [],
   "source": [
    "integer = 100\n",
    "Floating = 10.201\n",
    "Character = \"Hello\""
   ]
  },
  {
   "cell_type": "code",
   "execution_count": 31,
   "id": "5410b63c-27ae-4033-ad10-870ca9389c4e",
   "metadata": {},
   "outputs": [
    {
     "name": "stdout",
     "output_type": "stream",
     "text": [
      "<class 'int'>\n",
      "<class 'float'>\n",
      "<class 'str'>\n"
     ]
    }
   ],
   "source": [
    "print(type(integer))\n",
    "print(type(Floating))\n",
    "print(type(Character))"
   ]
  },
  {
   "cell_type": "code",
   "execution_count": 4,
   "id": "d087796e-e0d5-46b4-a470-016d8a1ad143",
   "metadata": {},
   "outputs": [
    {
     "name": "stdout",
     "output_type": "stream",
     "text": [
      "hello world Good bye "
     ]
    }
   ],
   "source": [
    "# Now i will write different line but out will be one line\n",
    "\n",
    "print('hello', end=' ')\n",
    "print('world',end=' ')\n",
    "print('Good bye',end=' ')"
   ]
  },
  {
   "cell_type": "markdown",
   "id": "a1ef30ea-b547-470f-bfbc-b064e210d827",
   "metadata": {},
   "source": [
    "## Multiple assignment "
   ]
  },
  {
   "cell_type": "code",
   "execution_count": 6,
   "id": "bf3af5c0-f711-4933-b90d-d7aefcd01379",
   "metadata": {},
   "outputs": [],
   "source": [
    "# Normal Assignment\n",
    "\n",
    "p=30\n",
    "q=20"
   ]
  },
  {
   "cell_type": "code",
   "execution_count": 7,
   "id": "0562fa5b-f633-444d-9ac4-8cef0fed0d66",
   "metadata": {},
   "outputs": [
    {
     "data": {
      "text/plain": [
       "30"
      ]
     },
     "execution_count": 7,
     "metadata": {},
     "output_type": "execute_result"
    }
   ],
   "source": [
    "p"
   ]
  },
  {
   "cell_type": "code",
   "execution_count": 8,
   "id": "c00a9050-6390-43ac-a4c9-9601ec34f187",
   "metadata": {},
   "outputs": [
    {
     "data": {
      "text/plain": [
       "20"
      ]
     },
     "execution_count": 8,
     "metadata": {},
     "output_type": "execute_result"
    }
   ],
   "source": [
    "q"
   ]
  },
  {
   "cell_type": "code",
   "execution_count": 9,
   "id": "20f0fa97-7d99-462c-97e2-111d9ef86942",
   "metadata": {},
   "outputs": [],
   "source": [
    "p,q=20,30"
   ]
  },
  {
   "cell_type": "code",
   "execution_count": 10,
   "id": "9f334ec0-9d9c-4b76-97a4-1453ac1c074c",
   "metadata": {},
   "outputs": [
    {
     "data": {
      "text/plain": [
       "20"
      ]
     },
     "execution_count": 10,
     "metadata": {},
     "output_type": "execute_result"
    }
   ],
   "source": [
    "p"
   ]
  },
  {
   "cell_type": "code",
   "execution_count": 11,
   "id": "483cac67-0cd8-4888-a623-70e85e21fafb",
   "metadata": {},
   "outputs": [
    {
     "data": {
      "text/plain": [
       "(20, 30)"
      ]
     },
     "execution_count": 11,
     "metadata": {},
     "output_type": "execute_result"
    }
   ],
   "source": [
    "p,q"
   ]
  },
  {
   "cell_type": "code",
   "execution_count": 12,
   "id": "9ab648e0-8df4-4dd8-924c-25b049b16751",
   "metadata": {},
   "outputs": [],
   "source": [
    "# Swap Number \n",
    "a = 10\n",
    "b = 50\n",
    "a , b = b,a"
   ]
  },
  {
   "cell_type": "code",
   "execution_count": 13,
   "id": "ae9ae388-9f6c-48d7-be25-eb1d465ff92f",
   "metadata": {},
   "outputs": [
    {
     "data": {
      "text/plain": [
       "50"
      ]
     },
     "execution_count": 13,
     "metadata": {},
     "output_type": "execute_result"
    }
   ],
   "source": [
    "a"
   ]
  },
  {
   "cell_type": "markdown",
   "id": "34c965eb-e593-41d8-81d9-83338ab7d725",
   "metadata": {},
   "source": [
    "## Formating Number and string"
   ]
  },
  {
   "cell_type": "code",
   "execution_count": 14,
   "id": "eafb97f3-2bdd-417f-87b5-da49cafcbb63",
   "metadata": {},
   "outputs": [],
   "source": [
    "v = 20.4550003\n"
   ]
  },
  {
   "cell_type": "code",
   "execution_count": 15,
   "id": "37b94239-ea49-437b-8e02-29902c6c1f1f",
   "metadata": {},
   "outputs": [
    {
     "data": {
      "text/plain": [
       "float"
      ]
     },
     "execution_count": 15,
     "metadata": {},
     "output_type": "execute_result"
    }
   ],
   "source": [
    "type(v)"
   ]
  },
  {
   "cell_type": "code",
   "execution_count": 16,
   "id": "f5e257af-b31e-43c7-9767-9ad65a402ae0",
   "metadata": {},
   "outputs": [],
   "source": [
    "v=format(v,\".3f\")"
   ]
  },
  {
   "cell_type": "code",
   "execution_count": 17,
   "id": "72dc4e8b-204e-4aad-9891-6fa52ddd8c39",
   "metadata": {},
   "outputs": [
    {
     "data": {
      "text/plain": [
       "'20.455'"
      ]
     },
     "execution_count": 17,
     "metadata": {},
     "output_type": "execute_result"
    }
   ],
   "source": [
    "v"
   ]
  },
  {
   "cell_type": "code",
   "execution_count": 18,
   "id": "d5f6c5fb-c0fc-4f9f-bc42-b16be9df9d29",
   "metadata": {},
   "outputs": [],
   "source": [
    "z = 99.3465809\n",
    "z = format(z, \"<7.3f\")"
   ]
  },
  {
   "cell_type": "code",
   "execution_count": 19,
   "id": "c5015a53-f968-454d-bbda-f01529158176",
   "metadata": {},
   "outputs": [
    {
     "data": {
      "text/plain": [
       "'99.347 '"
      ]
     },
     "execution_count": 19,
     "metadata": {},
     "output_type": "execute_result"
    }
   ],
   "source": [
    "z"
   ]
  },
  {
   "cell_type": "code",
   "execution_count": 20,
   "id": "7d0f6623-4cd3-4807-acab-d77013e84d04",
   "metadata": {},
   "outputs": [
    {
     "data": {
      "text/plain": [
       "str"
      ]
     },
     "execution_count": 20,
     "metadata": {},
     "output_type": "execute_result"
    }
   ],
   "source": [
    "type(z)"
   ]
  },
  {
   "cell_type": "code",
   "execution_count": 21,
   "id": "906eff5b-5323-4b82-ad44-a21488d69609",
   "metadata": {},
   "outputs": [],
   "source": [
    "# Now str to original format\n",
    "\n",
    "z = 28.90995\n",
    "z = eval (format(z,\"<6.3f\"))"
   ]
  },
  {
   "cell_type": "code",
   "execution_count": 22,
   "id": "0c2d1c09-cc55-491b-ab83-f96807219ad2",
   "metadata": {},
   "outputs": [
    {
     "data": {
      "text/plain": [
       "28.91"
      ]
     },
     "execution_count": 22,
     "metadata": {},
     "output_type": "execute_result"
    }
   ],
   "source": [
    "z"
   ]
  },
  {
   "cell_type": "code",
   "execution_count": 23,
   "id": "39be1f49-57e9-4c2e-9a09-c533afaf4dd0",
   "metadata": {},
   "outputs": [
    {
     "data": {
      "text/plain": [
       "float"
      ]
     },
     "execution_count": 23,
     "metadata": {},
     "output_type": "execute_result"
    }
   ],
   "source": [
    "type(z)"
   ]
  },
  {
   "cell_type": "code",
   "execution_count": 24,
   "id": "49798f25-cc44-4c44-b42f-1f56cc5a59e8",
   "metadata": {},
   "outputs": [],
   "source": [
    "p = 89.78\n",
    "\n",
    "p =format(p,\".3%\")"
   ]
  },
  {
   "cell_type": "code",
   "execution_count": 25,
   "id": "33d0a6d4-590f-40ef-bd1f-c2345ec4ebb6",
   "metadata": {},
   "outputs": [
    {
     "data": {
      "text/plain": [
       "'8978.000%'"
      ]
     },
     "execution_count": 25,
     "metadata": {},
     "output_type": "execute_result"
    }
   ],
   "source": [
    "p"
   ]
  },
  {
   "cell_type": "code",
   "execution_count": 27,
   "id": "7bdf7c68-f72e-4641-bcc7-577277fc751a",
   "metadata": {},
   "outputs": [
    {
     "name": "stdout",
     "output_type": "stream",
     "text": [
      "<class 'str'>\n"
     ]
    }
   ],
   "source": [
    "print(type(p))"
   ]
  },
  {
   "cell_type": "markdown",
   "id": "014db957-3e35-4d21-bdbc-73fd89563a41",
   "metadata": {},
   "source": [
    "### Basic calculation"
   ]
  },
  {
   "cell_type": "code",
   "execution_count": 32,
   "id": "316b0474-cf87-4598-b7c4-5770d5a05d1e",
   "metadata": {},
   "outputs": [
    {
     "data": {
      "text/plain": [
       "60"
      ]
     },
     "execution_count": 32,
     "metadata": {},
     "output_type": "execute_result"
    }
   ],
   "source": [
    "a+b"
   ]
  },
  {
   "cell_type": "code",
   "execution_count": 33,
   "id": "5a76984a-9eef-4f86-bad2-595da11816e6",
   "metadata": {},
   "outputs": [
    {
     "data": {
      "text/plain": [
       "40"
      ]
     },
     "execution_count": 33,
     "metadata": {},
     "output_type": "execute_result"
    }
   ],
   "source": [
    "a-b"
   ]
  },
  {
   "cell_type": "code",
   "execution_count": 34,
   "id": "9568421a-de59-49cb-bdf6-f6ddc453a4ea",
   "metadata": {},
   "outputs": [
    {
     "data": {
      "text/plain": [
       "500"
      ]
     },
     "execution_count": 34,
     "metadata": {},
     "output_type": "execute_result"
    }
   ],
   "source": [
    "a*b"
   ]
  },
  {
   "cell_type": "code",
   "execution_count": 35,
   "id": "a60b5a09-034e-4ada-8021-6ed9eba74785",
   "metadata": {},
   "outputs": [
    {
     "data": {
      "text/plain": [
       "5.0"
      ]
     },
     "execution_count": 35,
     "metadata": {},
     "output_type": "execute_result"
    }
   ],
   "source": [
    "a/b"
   ]
  },
  {
   "cell_type": "code",
   "execution_count": 36,
   "id": "62c0b1a8-7560-479b-9453-d2d960fbc6bd",
   "metadata": {},
   "outputs": [
    {
     "data": {
      "text/plain": [
       "0"
      ]
     },
     "execution_count": 36,
     "metadata": {},
     "output_type": "execute_result"
    }
   ],
   "source": [
    "a%b  #reminder"
   ]
  },
  {
   "cell_type": "markdown",
   "id": "f14a4366-4fef-4926-9167-39cd5e50a27a",
   "metadata": {},
   "source": [
    "## The ACII value of a character"
   ]
  },
  {
   "cell_type": "code",
   "execution_count": 37,
   "id": "76e8be0d-16c4-46e6-96ac-e028e44ad5c2",
   "metadata": {},
   "outputs": [
    {
     "data": {
      "text/plain": [
       "97"
      ]
     },
     "execution_count": 37,
     "metadata": {},
     "output_type": "execute_result"
    }
   ],
   "source": [
    "# we use ord() for find acii value\n",
    "\n",
    "ord(\"a\")"
   ]
  },
  {
   "cell_type": "code",
   "execution_count": 38,
   "id": "fc1382e0-cc10-45cb-956d-6536a934af27",
   "metadata": {},
   "outputs": [
    {
     "data": {
      "text/plain": [
       "65"
      ]
     },
     "execution_count": 38,
     "metadata": {},
     "output_type": "execute_result"
    }
   ],
   "source": [
    "ord(\"A\")"
   ]
  },
  {
   "cell_type": "code",
   "execution_count": 39,
   "id": "159faf26-e423-451f-9cfa-5e385b89b586",
   "metadata": {},
   "outputs": [],
   "source": [
    "# we use chr() for find character from ACII value"
   ]
  },
  {
   "cell_type": "code",
   "execution_count": 40,
   "id": "5e792293-2e53-4b82-96b6-5d0c291be904",
   "metadata": {},
   "outputs": [
    {
     "data": {
      "text/plain": [
       "'N'"
      ]
     },
     "execution_count": 40,
     "metadata": {},
     "output_type": "execute_result"
    }
   ],
   "source": [
    "chr(78)"
   ]
  },
  {
   "cell_type": "code",
   "execution_count": 41,
   "id": "7229d9e3-93e0-4d52-b394-7ab5411f136e",
   "metadata": {},
   "outputs": [
    {
     "data": {
      "text/plain": [
       "'d'"
      ]
     },
     "execution_count": 41,
     "metadata": {},
     "output_type": "execute_result"
    }
   ],
   "source": [
    "chr(100)"
   ]
  },
  {
   "cell_type": "code",
   "execution_count": 42,
   "id": "ae3a64b4-23f8-4e4b-b713-db1924150bb0",
   "metadata": {},
   "outputs": [
    {
     "data": {
      "text/plain": [
       "'ऩ'"
      ]
     },
     "execution_count": 42,
     "metadata": {},
     "output_type": "execute_result"
    }
   ],
   "source": [
    "chr(2345)"
   ]
  },
  {
   "cell_type": "code",
   "execution_count": 44,
   "id": "70c67335-e6f4-4c38-bbea-a126a3f3b557",
   "metadata": {},
   "outputs": [
    {
     "data": {
      "text/plain": [
       "'ỏ'"
      ]
     },
     "execution_count": 44,
     "metadata": {},
     "output_type": "execute_result"
    }
   ],
   "source": [
    "chr(7887)"
   ]
  },
  {
   "cell_type": "code",
   "execution_count": 45,
   "id": "cabf197c-7039-4ac4-be37-9e6221a0d289",
   "metadata": {},
   "outputs": [
    {
     "ename": "TypeError",
     "evalue": "ord() expected a character, but string of length 5 found",
     "output_type": "error",
     "traceback": [
      "\u001b[1;31m---------------------------------------------------------------------------\u001b[0m",
      "\u001b[1;31mTypeError\u001b[0m                                 Traceback (most recent call last)",
      "Cell \u001b[1;32mIn[45], line 1\u001b[0m\n\u001b[1;32m----> 1\u001b[0m \u001b[38;5;28mord\u001b[39m(\u001b[38;5;124m\"\u001b[39m\u001b[38;5;124mhello\u001b[39m\u001b[38;5;124m\"\u001b[39m)\n",
      "\u001b[1;31mTypeError\u001b[0m: ord() expected a character, but string of length 5 found"
     ]
    }
   ],
   "source": [
    "ord(\"hello\") # It will never give us a world value"
   ]
  },
  {
   "cell_type": "code",
   "execution_count": 46,
   "id": "2b29e23a-5462-439e-a2b5-ca816e2afc0a",
   "metadata": {},
   "outputs": [],
   "source": [
    "## round()"
   ]
  },
  {
   "cell_type": "code",
   "execution_count": 47,
   "id": "527300d2-ba19-4f0a-8a08-032712d1651a",
   "metadata": {},
   "outputs": [
    {
     "data": {
      "text/plain": [
       "1"
      ]
     },
     "execution_count": 47,
     "metadata": {},
     "output_type": "execute_result"
    }
   ],
   "source": [
    "round(1.26554)"
   ]
  },
  {
   "cell_type": "code",
   "execution_count": 49,
   "id": "5e4f4dba-f0d6-407a-9cdc-d6194deaffc0",
   "metadata": {},
   "outputs": [
    {
     "data": {
      "text/plain": [
       "1"
      ]
     },
     "execution_count": 49,
     "metadata": {},
     "output_type": "execute_result"
    }
   ],
   "source": [
    "round(1.493)"
   ]
  },
  {
   "cell_type": "code",
   "execution_count": 50,
   "id": "65235332-6605-478d-9c2b-9fcf262d2401",
   "metadata": {},
   "outputs": [
    {
     "data": {
      "text/plain": [
       "2"
      ]
     },
     "execution_count": 50,
     "metadata": {},
     "output_type": "execute_result"
    }
   ],
   "source": [
    "round(1.5)"
   ]
  },
  {
   "cell_type": "code",
   "execution_count": 51,
   "id": "b75771e2-20a0-43d9-8738-6d1db596b8b1",
   "metadata": {},
   "outputs": [
    {
     "data": {
      "text/plain": [
       "250"
      ]
     },
     "execution_count": 51,
     "metadata": {},
     "output_type": "execute_result"
    }
   ],
   "source": [
    "abs(-250)"
   ]
  },
  {
   "cell_type": "code",
   "execution_count": 52,
   "id": "9704637f-9b42-4ba7-aea9-bb14945c80ef",
   "metadata": {},
   "outputs": [
    {
     "data": {
      "text/plain": [
       "456"
      ]
     },
     "execution_count": 52,
     "metadata": {},
     "output_type": "execute_result"
    }
   ],
   "source": [
    "abs(456)"
   ]
  },
  {
   "cell_type": "code",
   "execution_count": 53,
   "id": "faeb5e11-e70d-4f20-88aa-cbd5dc9fdc22",
   "metadata": {},
   "outputs": [
    {
     "data": {
      "text/plain": [
       "30"
      ]
     },
     "execution_count": 53,
     "metadata": {},
     "output_type": "execute_result"
    }
   ],
   "source": [
    "max(10,20,30,25)"
   ]
  },
  {
   "cell_type": "code",
   "execution_count": 54,
   "id": "7ac703e3-94a1-4256-bfa8-882620cc19f0",
   "metadata": {},
   "outputs": [
    {
     "data": {
      "text/plain": [
       "34.123"
      ]
     },
     "execution_count": 54,
     "metadata": {},
     "output_type": "execute_result"
    }
   ],
   "source": [
    "min(34.123,34.1234,34.12345)"
   ]
  },
  {
   "cell_type": "markdown",
   "id": "e66aba60-52aa-4961-8c1e-a21897e4225e",
   "metadata": {},
   "source": [
    "### Calculation of some mini project"
   ]
  },
  {
   "cell_type": "code",
   "execution_count": 56,
   "id": "0ea423c2-7dbd-420f-8a08-b2dbf4b1e560",
   "metadata": {},
   "outputs": [],
   "source": [
    "# area of a circle"
   ]
  },
  {
   "cell_type": "code",
   "execution_count": 59,
   "id": "163d1089-661d-4e0b-acaa-8d55c6b04d0e",
   "metadata": {},
   "outputs": [
    {
     "name": "stdout",
     "output_type": "stream",
     "text": [
      "314.16\n"
     ]
    }
   ],
   "source": [
    "r = 10\n",
    "area=3.1416*r*r\n",
    "print(area)"
   ]
  },
  {
   "cell_type": "code",
   "execution_count": 60,
   "id": "8b8da66e-2a80-4b42-b29f-ed22cca3007a",
   "metadata": {},
   "outputs": [],
   "source": [
    "# alternative"
   ]
  },
  {
   "cell_type": "code",
   "execution_count": 71,
   "id": "de23ca04-0b06-4f0a-983b-f04fedf3c9e9",
   "metadata": {},
   "outputs": [
    {
     "name": "stdout",
     "output_type": "stream",
     "text": [
      "The area of a circle:,314.159\n"
     ]
    }
   ],
   "source": [
    "import math\n",
    "\n",
    "r = 10\n",
    "area = math.pi*(r**2)\n",
    "print(f\"The area of a circle:,{area:.3f}\")"
   ]
  },
  {
   "cell_type": "code",
   "execution_count": 73,
   "id": "4a2fee9c-3ff0-4058-adcc-f4e6985844f8",
   "metadata": {},
   "outputs": [
    {
     "name": "stdout",
     "output_type": "stream",
     "text": [
      "225.0\n",
      "225\n"
     ]
    }
   ],
   "source": [
    "# area of a triangle\n",
    "\n",
    "base=30\n",
    "height=15\n",
    "\n",
    "area = 0.5 * base * height\n",
    "print(area)\n",
    "print(round(area))"
   ]
  }
 ],
 "metadata": {
  "kernelspec": {
   "display_name": "Python 3 (ipykernel)",
   "language": "python",
   "name": "python3"
  },
  "language_info": {
   "codemirror_mode": {
    "name": "ipython",
    "version": 3
   },
   "file_extension": ".py",
   "mimetype": "text/x-python",
   "name": "python",
   "nbconvert_exporter": "python",
   "pygments_lexer": "ipython3",
   "version": "3.13.5"
  }
 },
 "nbformat": 4,
 "nbformat_minor": 5
}
